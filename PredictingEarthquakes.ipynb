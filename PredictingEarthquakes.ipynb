{
 "cells": [
  {
   "cell_type": "markdown",
   "metadata": {},
   "source": [
    "# Computational Intelligence Techniques for Predicting Earthquakes"
   ]
  },
  {
   "cell_type": "markdown",
   "metadata": {},
   "source": [
    "Во денешно време, се посветува многу напор да се развијат техники кои предвидуваат природни катастрофи со цел да се преземат мерки на претпазливост.Oвој труд е значаен поради тоа што ни предлага формула за докажување на постоечки патерн помегу минати земјотреси и тие кои што проследуваат во иднина. Извлекувањето на квантитативните правила за асоцијација\n",
    "и техниките на регресија можат да се користат за откривање на патерни кои го моделираат однесувањето на сеизмички временски податоци за да помогне во предвидување на земјотреси.\n"
   ]
  },
  {
   "cell_type": "markdown",
   "metadata": {},
   "source": [
    "## 1 Introduction"
   ]
  },
  {
   "cell_type": "markdown",
   "metadata": {},
   "source": [
    "A time series is a sequence of values observed over time and, therefore, chronologically ordered. Given this definition, it is usual to find data that can be represented as time series in many research fields.\n",
    "The study of the past behavior of a variable may be extremely valuable to\n",
    "predict its future behavior. Assuming that the nature of the earthquakes time\n",
    "series is stochastic, clustering techniques have shown that these time series exhibit some temporal patterns, making the modeling and subsequent prediction\n",
    "possible [11].\n",
    "This paper analyzes and forecasts earthquakes time series by means of the\n",
    "application of two classical techniques: Quantitative association rules (QAR)\n",
    "and regression.\n",
    "A revision of the latest published works reveals that the amount of metaheuristics and search algorithms related to association rules with continuous\n",
    "attributes is limited. Nevertheless, a classifier was presented in [13] to extract\n",
    "quantitative association rules from unlabeled data streams. The main\n",
    "noveltyof this approach lied on its adaptability to on-line gathered data. Also, a metaheuristic based on rough particle swarm techniques was presented in [1]. In this\n",
    "case, the special feature was the obtention of the values determining the intervals\n",
    "of the association rules. They also evaluated and tested several new operators in\n",
    "synthetic data. A multi-objective pareto-based genetic algorithm was presented\n",
    "in [2]. The fitness function was formed by four different objectives: support,\n",
    "confidence, comprehensibility of the rule (aimed at being maximized) and the\n",
    "amplitude of the intervals that forms the rule (intended to be minimized). The\n",
    "work published in [17] presented a new approach based on three novel algorithms: Value-interval clustering, interval-interval clustering and matrix-interval\n",
    "clustering. Their application was found especially useful when mining complex\n",
    "information. Another genetic algorithm was used in [16] in order to obtain numeric association rules. However, the unique objective to be optimized in the\n",
    "fitness function was the confidence. To fulfill this goal, the authors avoided the\n",
    "specification of the actual minimum support, which is the main contribution of\n",
    "this work. Finally, an extension of the well-known binary-coded CHC algorithm\n",
    "is presented in [10] for finding existing relations between atmospheric pollution\n",
    "and climatological conditions.\n",
    "Regression techniques have been widely used for forecasting time series [5].\n",
    "Thus, an empirical study on sea water quality prediction can be found in [7].\n",
    "Hatzikos et al. faced the problem of forecasting water quality based on underwater sensors measurements, by means of a large variety of both linear and nonlinear methods. Also, a new methodology to build regression trees was introduced\n",
    "in [3]. The authors transformed quantitative data into statistical moments, and\n",
    "constructed a tree to estimate the forecasting interval of the target variable.\n",
    "Last, the problem of predicting the machinery degradation and trending of fault\n",
    "propagation before reaching the alarm was studied in [12]. In particular, the\n",
    "authors proposed an approach based on regression trees to forecast such time\n",
    "series.\n",
    "The rest of the paper is divided as follows. Section 2 provides the methodology\n",
    "used in this work. The results of the approach are reported in Section 3. Finally,\n",
    "Section 4 discusses the achieved conclusions."
   ]
  },
  {
   "cell_type": "markdown",
   "metadata": {},
   "source": [
    "### 2 Methodology"
   ]
  },
  {
   "cell_type": "markdown",
   "metadata": {},
   "source": [
    "The methods used to extract knowledge from earthquakes time series are described in this section. The goal is to find patterns in data that precede the\n",
    "appearance of earthquakes with a given magnitude."
   ]
  },
  {
   "cell_type": "markdown",
   "metadata": {},
   "source": [
    "**2.1 Association Rules Mining**"
   ]
  },
  {
   "cell_type": "markdown",
   "metadata": {},
   "source": [
    "Let $\\(F = \\{ F_1, ..., F_n \\}\\)$ be a set of features with values in R describing an earthquake. The desired rules are defined by the following equation:"
   ]
  },
  {
   "source": [
    "$$\\bigwedge{i=1,...,n-1} F_i \\in [l_i, u_i]  \\Rightarrow F_n \\in [L_n, u_n]$$"
   ],
   "cell_type": "markdown",
   "metadata": {}
  },
  {
   "cell_type": "markdown",
   "metadata": {},
   "source": [
    "where li and ui represents the lower and upper limits of the interval for Fi,\n",
    "respectively and the limits ln and un are given depending on the objective of\n",
    "the problem to be solved. In the context of seismic time series, Fn represents the\n",
    "earthquake magnitude to be predicted and the limits ln and un depend on the\n",
    "required size of the earthquakes to be forecasted.\n",
    "The proposed method to obtain QAR is described as follows. First, the dataset\n",
    "is sorted by the feature Fn, that is, by the consequent of the rule. Once the limits\n",
    "[ln, un] are set, the range of the remaining features Fi is calculated as:\n"
   ]
  },
  {
   "cell_type": "code",
   "execution_count": null,
   "metadata": {},
   "outputs": [],
   "source": []
  },
  {
   "cell_type": "code",
   "execution_count": null,
   "metadata": {},
   "outputs": [],
   "source": []
  },
  {
   "cell_type": "code",
   "execution_count": null,
   "metadata": {},
   "outputs": [],
   "source": []
  },
  {
   "cell_type": "code",
   "execution_count": null,
   "metadata": {},
   "outputs": [],
   "source": []
  },
  {
   "cell_type": "markdown",
   "metadata": {},
   "source": [
    "where #(R(Fi)) is the number of elements of the set R(Fi).\n",
    "Let Si be the set of pair of values such that the amplitude of the interval to\n",
    "be searched for the feature Fi is sufficiently small. That is,"
   ]
  },
  {
   "cell_type": "code",
   "execution_count": null,
   "metadata": {},
   "outputs": [],
   "source": []
  },
  {
   "cell_type": "markdown",
   "metadata": {},
   "source": [
    "where MAXi is the maximum allowed amplitude for the feature Fi which is a\n",
    "given parameter depending on the desired rules.\n",
    "Thus, for any value (ki,ki ∈ Si, the rules built by the k-greatest and ksmallest values are:"
   ]
  },
  {
   "cell_type": "markdown",
   "metadata": {},
   "source": [
    "**2.2 Regression: M5P Algorithm**"
   ]
  },
  {
   "cell_type": "markdown",
   "metadata": {},
   "source": [
    "The second method used to obtain patterns in seismic time series is the M5P\n",
    "algorithm available in WEKA [4]. The M5P approach [15] extends to the M5 algorithm by adding missing values techniques and transformation of features from\n",
    "discrete values to binary values. The algorithm M5 [14] provides a conventional\n",
    "decision-tree with linear regression functions at the nodes. The tree is obtained\n",
    "by a classical induction algorithm but the splits are obtained by maximizing the\n",
    "reduction of the variance and not maximizing the gain of information.\n",
    "Once the tree has been built, the method computes a linear model for each\n",
    "node. Later the leaves of the tree are pruned while the error decreases. For each\n",
    "node, the error is the mean of the absolute value of the difference between the predicted and actual values for each example reaching such node. This error\n",
    "is weighted depending on the number of examples which reach that node. The process is repeated until all examples are covered for one o more rules.\n",
    "Thus, M5P generates models that are compact and relatively comprehensible.  "
   ]
  },
  {
   "cell_type": "markdown",
   "metadata": {},
   "source": [
    "**3.1 Data Description**"
   ]
  },
  {
   "cell_type": "markdown",
   "metadata": {},
   "source": [
    "The dataset used in this work has been retrieved from the catalogue of Spanish’s\n",
    "Geographical Institute (SGI), which contains the location and magnitude of\n",
    "Spanish earthquakes.\n",
    "Additionally, the b–value parameter of the Gutenberg–Richter law has been\n",
    "calculated, as it reflects the tectonics and geophysical properties of the rocks as\n",
    "well as the fluid pressure variations in the characterized surface [9].\n",
    "Thus, each sample forming the dataset is composed by four attributes: Current\n",
    "earthquake magnitude, time when the earthquake occurred, associated b-value,\n",
    "and magnitude of the previously occurred earthquake. Note that earthquakes\n",
    "with magnitude lower than 3.0 have been removed from the dataset, and both\n",
    "aftershocks and foreshocks have been removed to avoid dependent data, as recommended in [8].\n",
    "Despite the Iberian Peninsula is divided in 27 seismogenic areas according to\n",
    "SGI, only areas 26 and 27 (Alboran Sea and Western Azores–Gibraltar Fault,\n",
    "respectively) have been studied, since they are the most active ones [11]. The\n",
    "considered earthquakes date from 1981 to 2008, having been analyzed a total of\n",
    "873 quakes."
   ]
  },
  {
   "cell_type": "markdown",
   "metadata": {},
   "source": [
    "**3.2 Quantitative Association Rules Extraction**"
   ]
  },
  {
   "cell_type": "markdown",
   "metadata": {},
   "source": [
    "All mined association rules to forecast earthquakes are now introduced and discussed. As the goal is to find patterns that precede quake occurrences, the magnitude of the current earthquake, Mc, has been forced to be the only attribute\n",
    "in the consequent.\n",
    "The Mc attribute has been divided in three non-overlapped intervals: [3.0,\n",
    "3.5) or small earthquakes, [3.5, 4.4) or medium earthquakes, and [4.4, 6.2] or\n",
    "large earthquakes (note that the largest retrieved earthquake magnitude is 6.2).\n",
    "Tables 1, 2, and 3 show the rules extracted for large, medium and small earthquakes, respectively. Note that Δb and Δt represent the increment of the b–value\n",
    "and the time elapsed between the previous and current earthquake, respectively.\n",
    "Also, the magnitude of the earthquake occurred prior the current one, Mp, has been"
   ]
  },
  {
   "cell_type": "markdown",
   "metadata": {},
   "source": [
    "**Table 1.** Association rules with consequent Mc ∈ [4.4, 6.2]"
   ]
  },
  {
   "cell_type": "code",
   "execution_count": null,
   "metadata": {},
   "outputs": [],
   "source": []
  },
  {
   "cell_type": "markdown",
   "metadata": {},
   "source": [
    "divided in non-overlapped intervals, and therefore, transactions forming the data\n",
    "can be covered only by one rule. Finally, all rules have been assessed by means of\n",
    "three well-known and widely used indices: Confidence, support, and lift [6].\n",
    "The best rules mined for large earthquakes (Mc ∈ [4.4, 6.2]) are shown in\n",
    "Table 1. These rules share a common feature, which is that they all present\n",
    "remarkable and negative Δb. Moreover, Δt is small in all rules, except for rule\n",
    "#3, which allows time intervals up to 0.33. From the 53 earthquakes that satisfy\n",
    "that Mc ∈ [4.4, 6.2], 14 are covered by rules #1, #2 and #3, which represents a\n",
    "support of 26.4%. On the other hand, it is noticeable the high confidence reached\n",
    "by all of them: 80.8% on average. Finally, the interestingness of the rules (or lift)\n",
    "is 13.3 on average. Assuming that a lift greater than 1 leads to consider the rule\n",
    "as interesting [6], the obtained values indicate that the extracted rules provide\n",
    "meaningful knowledge.\n",
    "Table 2 shows the QAR obtained for medium earthquakes, that is, with Mc ∈\n",
    "[3.5, 4.4). The most significative feature that share all the rules is that the b–value does not vary much (its value ranges from Δb = −0.07 to Δb = 0.02).\n",
    "Also remarkable is that the occurrence of these earthquakes takes place after\n",
    "moderately short time periods (the time elapsed between earthquakes varies\n",
    "from Δt = 0.00 to Δt = 0.20). As for the quality of the results, 86 earthquakes\n",
    "out of 344 were covered by rules #4, #5 and #6, which means a support of\n",
    "25.0%. The confidence was of 76.0% on average which can be considered high.\n",
    "Last, the lift measure also confirms that the rules are high quality, since it has\n",
    "values greater than 1, in particular, 1.9 on average.\n",
    "Table 3 represents the best QAR discovered for small earthquakes (Mc ∈\n",
    "[3.0, 3.5)). The b–value is now characterized by moderate and positive increments\n",
    "(Δb ranges from 0.01 to 0.04). Moreover, in contrast to what happens with\n",
    "medium and large earthquakes, the time elapsed is high, varying from Δt = 0.10\n",
    "to Δt = 0.32. A total of 476 small earthquakes were retrieved, from which 46\n",
    "have been covered by rules #7, #8 and #9, which imply a support of 9.7%.\n",
    "Especially noticeable is the confidence reached by these rules which is 85.7% on\n",
    "average. Again, the lift measure is greater than 1 for all rules, in particular, 1.7\n",
    "on average."
   ]
  },
  {
   "cell_type": "markdown",
   "metadata": {},
   "source": [
    "**Table 2.** Association rules with consequent Mc ∈ [3.5, 4.4)"
   ]
  },
  {
   "cell_type": "code",
   "execution_count": null,
   "metadata": {},
   "outputs": [],
   "source": []
  },
  {
   "cell_type": "markdown",
   "metadata": {},
   "source": [
    "**Table 3.** Association rules with consequent Mc ∈ [3.0, 3.5)"
   ]
  },
  {
   "cell_type": "code",
   "execution_count": null,
   "metadata": {},
   "outputs": [],
   "source": []
  },
  {
   "cell_type": "markdown",
   "metadata": {},
   "source": [
    "**3.3 M5P Results**"
   ]
  },
  {
   "cell_type": "markdown",
   "metadata": {},
   "source": [
    "This section provides the result obtained from the application of the M5P regressor. Fig. 1 illustrates the tree built by this algorithm. Thus, M5P found four\n",
    "linear models (LM), whose equations are listed below:"
   ]
  },
  {
   "cell_type": "code",
   "execution_count": null,
   "metadata": {},
   "outputs": [],
   "source": []
  },
  {
   "cell_type": "code",
   "execution_count": null,
   "metadata": {},
   "outputs": [],
   "source": []
  },
  {
   "cell_type": "code",
   "execution_count": null,
   "metadata": {},
   "outputs": [],
   "source": []
  },
  {
   "cell_type": "code",
   "execution_count": null,
   "metadata": {},
   "outputs": [],
   "source": []
  },
  {
   "cell_type": "markdown",
   "metadata": {},
   "source": [
    "The analysis of this model reveals that the b–value is the most significative\n",
    "attribute, as it appears in the two first levels of the tree. Also, the coefficients\n",
    "corresponding to b–value have the greatest weights in the linear models."
   ]
  },
  {
   "cell_type": "code",
   "execution_count": null,
   "metadata": {},
   "outputs": [],
   "source": []
  },
  {
   "cell_type": "markdown",
   "metadata": {},
   "source": [
    "**Fig. 1.** Tree built with M5P algorithm"
   ]
  },
  {
   "cell_type": "raw",
   "metadata": {},
   "source": [
    "The first cutoff is set for Δb = −0.004. Thus, the first linear model, LM 1,\n",
    "is found when Δb ≤ −0.004. This model has the biggest absolute value for the Δb coefficient (a value of -11.2781). Moreover, as this coefficient is negative, it\n",
    "can be stated that the smaller is the value of Δb, the bigger is the earthquake\n",
    "magnitude. On the other hand, the coefficient of Mp is positive (a value of\n",
    "0.3237), which leads to conclude that Mc is directly related to Mp. In other\n",
    "words, the magnitude of the current earthquake has a direct relation with the\n",
    "magnitude of the previous one.\n",
    "The earthquakes occurred with Δb > −0.004 are modeled by three linear\n",
    "models (LM 2, LM 3 and LM 4). All of them present similar Δb coefficients,\n",
    "which involves inverse relation with the magnitude of the current earthquake,\n",
    "that is, the bigger is Δb, the smaller is Mc. Nevertheless, its influence is more\n",
    "moderate than that of LM 1.\n",
    "The second cutoff is set for Δb = 0.011. Thus, when Δb > 0.011 the LM 4\n",
    "model is provided (see equation (10). In this model, the most significative coefficient is that corresponding to Δt with a weight of -0.3696, revealing that the\n",
    "longer is the time elapsed, the smaller is the magnitude of the current earthquake. It is also notable that the magnitude of the previous earthquake does not\n",
    "influence much in this model as it is weighted by 0.0096.\n",
    "When the b–value varies between -0.004 and 0.011, the model proposes two\n",
    "different linear models (LM 2 and LM 3), depending on the time elapsed between\n",
    "the previous and current earthquake. Although both linear models are quite\n",
    "similar, when the time elapsed is less or equal than 0.024 (LM 2 model), the\n",
    "magnitude of the previous earthquake influences much more than when it is\n",
    "greater than 0.024 (LM 3 model) as the coefficient of Mp is 0.1889 in LM 2\n",
    "versus 0.0213 in LM 3.\n",
    "Finally, a measure of the quality of results is now discussed. The tree presents\n",
    "a correlation coefficient of 0.67. The mean absolute error is 0.26 and the root\n",
    "mean squared error is 0.35. These errors are considered satisfactory given the\n",
    "stochastic nature of the problem studied.  "
   ]
  },
  {
   "cell_type": "markdown",
   "metadata": {},
   "source": [
    "**4 Conclusions**"
   ]
  },
  {
   "cell_type": "markdown",
   "metadata": {},
   "source": [
    "Earthquake data from two particular areas of the Iberian Peninsula have been\n",
    "successfully mined by means of two different techniques: QAR and the M5P\n",
    "algorithm. In particular, QAR with a confidence of 83.0% and a lift of 5.6 on\n",
    "average have been discovered and a regression-tree with an error of 0.35 has\n",
    "been built. Both techniques have discovered the great influence that the b–value\n",
    "has in earthquakes occurrences as its variation along with the time elapsed have\n",
    "shown to be useful to model different earthquakes. Thus, the patterns discovered\n",
    "before an earthquake takes place may be useful in subsequent predictions."
   ]
  },
  {
   "cell_type": "markdown",
   "metadata": {},
   "source": [
    "**Acknowledgments**"
   ]
  },
  {
   "cell_type": "markdown",
   "metadata": {},
   "source": [
    "The financial support from the Spanish Ministry of Science and Technology,\n",
    "project TIN2007-68084-C-02, and from the Junta de Andalucía, project P07-\n",
    "TIC-02611, is acknowledged."
   ]
  },
  {
   "cell_type": "markdown",
   "metadata": {},
   "source": [
    "**References**"
   ]
  },
  {
   "cell_type": "markdown",
   "metadata": {},
   "source": [
    "1. Alatas, B., Akin, E.: Rough particle swarm optimization and its applications in\n",
    "data mining. Soft Computing 12(12), 1205–1218 (2008)\n",
    "2. Alatas, B., Akin, E., Karci, A.: MODENAR: Multi-objective differential evolution\n",
    "algorithm for mining numeric association rules. Applied Soft Computing 8(1), 646–\n",
    "656 (2008)\n",
    "3. Alberg, D., Last, M., Ben-Yair, A.: Induction of mean output prediction trees\n",
    "from continuous temporal meteorological data. Journal of Applied Quantitative\n",
    "methods 4(4), 485–494 (2009)\n",
    "4. Breiman, L., Friedman, J.H., Olshen, R.A., Stone, C.J.: Data Mining. In: Practical Machine Learning Tools and Techniques with Java Implementations. Morgan\n",
    "Kaufmann, San Francisco (1999)\n",
    "5. Fu, T.-C.: A review on time series data mining. Engineering Applications of Artificial Intelligence 24(1), 164–181 (2010)\n",
    "6. Geng, L., Hamilton, H.J.: Interestingness measures for data mining: A survey. ACM\n",
    "Computing Surveys 38(3), Article 9 (2006)\n",
    "7. Hatzikos, E.V., Tsoumakas, G., Tzanis, G., Bassiliades, N., Vlahavas, I.I.: An empirical study on sea water quality prediction. Knowledge-Based Systems 21, 471–\n",
    "478 (2008)\n",
    "8. Kulhanek, O.: Seminar on b–value. Technical report, Department of Geophysics,\n",
    "Charles University, Prague (2005)\n",
    "9. K. Lee and W. S. Yang. Historical seismicity of Korea. Bulletin of the Seismological\n",
    "Society of America, 71(3):846–855, 2006.\n",
    "10. Martínez-Ballesteros, M., Troncoso, A., Martínez-Álvarez, F., Riquelme, J.C.: Mining quantitative association rules based on evolutionary computation and its application to atmospheric pollution. Integrated Computer-Aided Engineering 17(3),\n",
    "227–242 (2010)\n",
    "11. Martínez-Álvarez, F., Morales-Esteban, A., Troncoso, A., de Justo, J.L., RubioEscudero, C.: Pattern recognition to forecast seismic time series. Expert Systems\n",
    "with Applications 37(12), 8333–8342 (2010)\n",
    "12. Oh, M.S., Tan, A., Tran, V., Yang, B.S.: Machine condition prognosis based on\n",
    "regression trees and one-step-ahead prediction. Mechanical Systems and Signal\n",
    "Processing 22, 1179–1193 (2008)\n",
    "13. Orriols-Puig, A., Casillas, J., Bernadó-Mansilla, E.: First approach toward online\n",
    "evolution of association rules with learning classifier systems. In: Proceedings of the\n",
    "Computation Conference Genetic and Evolutionary GECCO 2008, pp. 2031–2038\n",
    "(2008)\n",
    "14. Quinlan, J.R.: Learning with continous classes. In: Proceedings of the 5th Australian Joint Conference on Artificial Intelligence, pp. 343–348. World Scientific,\n",
    "Singapore (1992)\n",
    "15. Wang, Y., Witten, I.H.: Induction of model trees for predicting continous classes.\n",
    "In: Proocedings of the poster papers of the European Conference on Machine Learning, pp. 128–137 (1997)\n",
    "16. Yan, X., Zhang, C., Zhang, S.: Genetic algorithm-based strategy for identifying\n",
    "association rules without specifying actual minimum support. Expert Systems with\n",
    "Applications 36(2), 3066–3076 (2009)\n",
    "17. Yin, Y., Zhong, Z., Wang, Y.: Mining quantitative association rules by interval\n",
    "clustering. Journal of Computational Information Systems 4(2), 609–616 (2008)"
   ]
  }
 ],
 "metadata": {
  "kernelspec": {
   "display_name": "Python 3",
   "language": "python",
   "name": "python3"
  },
  "language_info": {
   "codemirror_mode": {
    "name": "ipython",
    "version": 3
   },
   "file_extension": ".py",
   "mimetype": "text/x-python",
   "name": "python",
   "nbconvert_exporter": "python",
   "pygments_lexer": "ipython3",
   "version": "3.9.0"
  }
 },
 "nbformat": 4,
 "nbformat_minor": 4
}
